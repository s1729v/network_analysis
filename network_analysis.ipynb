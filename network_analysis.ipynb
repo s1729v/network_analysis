{
 "cells": [
  {
   "cell_type": "code",
   "execution_count": 1,
   "metadata": {
    "collapsed": true
   },
   "outputs": [],
   "source": [
    "import pandas as pd"
   ]
  },
  {
   "cell_type": "code",
   "execution_count": 5,
   "metadata": {
    "collapsed": true
   },
   "outputs": [],
   "source": [
    "data = pd.read_csv('network_data_final.csv')"
   ]
  },
  {
   "cell_type": "code",
   "execution_count": 6,
   "metadata": {
    "collapsed": false
   },
   "outputs": [
    {
     "data": {
      "text/html": [
       "<div>\n",
       "<table border=\"1\" class=\"dataframe\">\n",
       "  <thead>\n",
       "    <tr style=\"text-align: right;\">\n",
       "      <th></th>\n",
       "      <th>uuid</th>\n",
       "      <th>network_uuid</th>\n",
       "      <th>network_id</th>\n",
       "      <th>network_credit_score</th>\n",
       "      <th>user_credit_score</th>\n",
       "      <th>network_type</th>\n",
       "    </tr>\n",
       "  </thead>\n",
       "  <tbody>\n",
       "    <tr>\n",
       "      <th>0</th>\n",
       "      <td>8660542698</td>\n",
       "      <td>9611191661</td>\n",
       "      <td>2</td>\n",
       "      <td>610.896263</td>\n",
       "      <td>605.274901</td>\n",
       "      <td>referrer</td>\n",
       "    </tr>\n",
       "    <tr>\n",
       "      <th>1</th>\n",
       "      <td>7795246117</td>\n",
       "      <td>9538629444</td>\n",
       "      <td>2</td>\n",
       "      <td>787.670469</td>\n",
       "      <td>NaN</td>\n",
       "      <td>referrer</td>\n",
       "    </tr>\n",
       "    <tr>\n",
       "      <th>2</th>\n",
       "      <td>d7421df0-3e5b-11e7-b98d-05a810b7bc33</td>\n",
       "      <td>9902740710</td>\n",
       "      <td>1</td>\n",
       "      <td>694.387867</td>\n",
       "      <td>NaN</td>\n",
       "      <td>friend</td>\n",
       "    </tr>\n",
       "    <tr>\n",
       "      <th>3</th>\n",
       "      <td>9740320701</td>\n",
       "      <td>9206430835</td>\n",
       "      <td>2</td>\n",
       "      <td>782.688818</td>\n",
       "      <td>783.087540</td>\n",
       "      <td>referrer</td>\n",
       "    </tr>\n",
       "    <tr>\n",
       "      <th>4</th>\n",
       "      <td>644fb3b0-e3cb-11e6-b685-7942eecceaad</td>\n",
       "      <td>44ae7fd0-d306-11e6-b551-2f5c6833db7e</td>\n",
       "      <td>1</td>\n",
       "      <td>782.602943</td>\n",
       "      <td>605.043503</td>\n",
       "      <td>friend</td>\n",
       "    </tr>\n",
       "  </tbody>\n",
       "</table>\n",
       "</div>"
      ],
      "text/plain": [
       "                                   uuid                          network_uuid  \\\n",
       "0                            8660542698                            9611191661   \n",
       "1                            7795246117                            9538629444   \n",
       "2  d7421df0-3e5b-11e7-b98d-05a810b7bc33                            9902740710   \n",
       "3                            9740320701                            9206430835   \n",
       "4  644fb3b0-e3cb-11e6-b685-7942eecceaad  44ae7fd0-d306-11e6-b551-2f5c6833db7e   \n",
       "\n",
       "   network_id  network_credit_score  user_credit_score network_type  \n",
       "0           2            610.896263         605.274901     referrer  \n",
       "1           2            787.670469                NaN     referrer  \n",
       "2           1            694.387867                NaN       friend  \n",
       "3           2            782.688818         783.087540     referrer  \n",
       "4           1            782.602943         605.043503       friend  "
      ]
     },
     "execution_count": 6,
     "metadata": {},
     "output_type": "execute_result"
    }
   ],
   "source": [
    "data.head()"
   ]
  },
  {
   "cell_type": "code",
   "execution_count": 7,
   "metadata": {
    "collapsed": false
   },
   "outputs": [
    {
     "data": {
      "text/plain": [
       "referral    253950\n",
       "friend       26572\n",
       "referrer     22820\n",
       "contact      21454\n",
       "fb           21368\n",
       "Name: network_type, dtype: int64"
      ]
     },
     "execution_count": 7,
     "metadata": {},
     "output_type": "execute_result"
    }
   ],
   "source": [
    "data['network_type'].value_counts()"
   ]
  },
  {
   "cell_type": "code",
   "execution_count": 19,
   "metadata": {
    "collapsed": false
   },
   "outputs": [
    {
     "data": {
      "text/plain": [
       "f02878d0-244f-11e7-97d8-f33e7cd2befe    82392\n",
       "373be160-3a2d-11e7-b98d-05a810b7bc33    82270\n",
       "d827d430-27cc-11e7-9c3d-eb8ca978a96d    75492\n",
       "8152002106                                239\n",
       "9738378800                                141\n",
       "Name: uuid, dtype: int64"
      ]
     },
     "execution_count": 19,
     "metadata": {},
     "output_type": "execute_result"
    }
   ],
   "source": [
    "df_1 = data.uuid.value_counts()\n",
    "df_1.head()"
   ]
  },
  {
   "cell_type": "code",
   "execution_count": 58,
   "metadata": {
    "collapsed": false
   },
   "outputs": [
    {
     "data": {
      "text/plain": [
       "False    37296\n",
       "True     11101\n",
       "Name: uuid, dtype: int64"
      ]
     },
     "execution_count": 58,
     "metadata": {},
     "output_type": "execute_result"
    }
   ],
   "source": [
    "final_df = data[data.uuid != 'f02878d0-244f-11e7-97d8-f33e7cd2befe']\n",
    "final_df = final_df[final_df.uuid != '373be160-3a2d-11e7-b98d-05a810b7bc33']\n",
    "final_df = final_df[final_df.uuid != 'd827d430-27cc-11e7-9c3d-eb8ca978a96d']\n",
    "(final_df.uuid.value_counts() > 1).value_counts()\n",
    "# f_df = final_df[final_df.uuid.isin(final_df.uuid.value_counts() > 1)]\n",
    "# final_df.drop_duplicates()\n",
    "# final_df.shape\n",
    "# final_df = final_df[final_df.uuid.value_counts() > 1]\n",
    "#  & data.uuid != '373be160-3a2d-11e7-b98d-05a810b7bc33' & data.uuid != 'd827d430-27cc-11e7-9c3d-eb8ca978a96d'"
   ]
  },
  {
   "cell_type": "code",
   "execution_count": 26,
   "metadata": {
    "collapsed": false
   },
   "outputs": [
    {
     "data": {
      "text/html": [
       "<div>\n",
       "<table border=\"1\" class=\"dataframe\">\n",
       "  <thead>\n",
       "    <tr style=\"text-align: right;\">\n",
       "      <th></th>\n",
       "      <th>uuid</th>\n",
       "      <th>network_uuid</th>\n",
       "      <th>network_id</th>\n",
       "      <th>network_credit_score</th>\n",
       "      <th>user_credit_score</th>\n",
       "      <th>network_type</th>\n",
       "    </tr>\n",
       "  </thead>\n",
       "  <tbody>\n",
       "    <tr>\n",
       "      <th>0</th>\n",
       "      <td>8660542698</td>\n",
       "      <td>9611191661</td>\n",
       "      <td>2</td>\n",
       "      <td>610.896263</td>\n",
       "      <td>605.274901</td>\n",
       "      <td>referrer</td>\n",
       "    </tr>\n",
       "    <tr>\n",
       "      <th>1</th>\n",
       "      <td>7795246117</td>\n",
       "      <td>9538629444</td>\n",
       "      <td>2</td>\n",
       "      <td>787.670469</td>\n",
       "      <td>NaN</td>\n",
       "      <td>referrer</td>\n",
       "    </tr>\n",
       "    <tr>\n",
       "      <th>2</th>\n",
       "      <td>d7421df0-3e5b-11e7-b98d-05a810b7bc33</td>\n",
       "      <td>9902740710</td>\n",
       "      <td>1</td>\n",
       "      <td>694.387867</td>\n",
       "      <td>NaN</td>\n",
       "      <td>friend</td>\n",
       "    </tr>\n",
       "    <tr>\n",
       "      <th>3</th>\n",
       "      <td>9740320701</td>\n",
       "      <td>9206430835</td>\n",
       "      <td>2</td>\n",
       "      <td>782.688818</td>\n",
       "      <td>783.087540</td>\n",
       "      <td>referrer</td>\n",
       "    </tr>\n",
       "    <tr>\n",
       "      <th>4</th>\n",
       "      <td>644fb3b0-e3cb-11e6-b685-7942eecceaad</td>\n",
       "      <td>44ae7fd0-d306-11e6-b551-2f5c6833db7e</td>\n",
       "      <td>1</td>\n",
       "      <td>782.602943</td>\n",
       "      <td>605.043503</td>\n",
       "      <td>friend</td>\n",
       "    </tr>\n",
       "  </tbody>\n",
       "</table>\n",
       "</div>"
      ],
      "text/plain": [
       "                                   uuid                          network_uuid  \\\n",
       "0                            8660542698                            9611191661   \n",
       "1                            7795246117                            9538629444   \n",
       "2  d7421df0-3e5b-11e7-b98d-05a810b7bc33                            9902740710   \n",
       "3                            9740320701                            9206430835   \n",
       "4  644fb3b0-e3cb-11e6-b685-7942eecceaad  44ae7fd0-d306-11e6-b551-2f5c6833db7e   \n",
       "\n",
       "   network_id  network_credit_score  user_credit_score network_type  \n",
       "0           2            610.896263         605.274901     referrer  \n",
       "1           2            787.670469                NaN     referrer  \n",
       "2           1            694.387867                NaN       friend  \n",
       "3           2            782.688818         783.087540     referrer  \n",
       "4           1            782.602943         605.043503       friend  "
      ]
     },
     "execution_count": 26,
     "metadata": {},
     "output_type": "execute_result"
    }
   ],
   "source": [
    "final_df.head()"
   ]
  },
  {
   "cell_type": "code",
   "execution_count": null,
   "metadata": {
    "collapsed": true
   },
   "outputs": [],
   "source": []
  }
 ],
 "metadata": {
  "kernelspec": {
   "display_name": "Python 2",
   "language": "python",
   "name": "python2"
  },
  "language_info": {
   "codemirror_mode": {
    "name": "ipython",
    "version": 2
   },
   "file_extension": ".py",
   "mimetype": "text/x-python",
   "name": "python",
   "nbconvert_exporter": "python",
   "pygments_lexer": "ipython2",
   "version": "2.7.10"
  }
 },
 "nbformat": 4,
 "nbformat_minor": 2
}
