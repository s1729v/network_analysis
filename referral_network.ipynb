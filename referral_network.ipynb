{
 "cells": [
  {
   "cell_type": "code",
   "execution_count": 121,
   "metadata": {
    "collapsed": true
   },
   "outputs": [],
   "source": [
    "import pandas as pd\n",
    "# from sqlalchemy import create_engine\n",
    "# connection_string = 'postgresql' + '://' + 'buddyadmin' + ':' + \\\n",
    "#                     'fintechbuddy' + '@' + 'postgres-buddy.ctzb27aixti7.ap-southeast-1.rds.amazonaws.com:5432' + '/' + \\\n",
    "#                     'buddymldb'\n",
    "# engine = create_engine(connection_string)"
   ]
  },
  {
   "cell_type": "code",
   "execution_count": 122,
   "metadata": {
    "collapsed": true
   },
   "outputs": [],
   "source": [
    "df = pd.read_csv('referral_network.csv')"
   ]
  },
  {
   "cell_type": "code",
   "execution_count": 123,
   "metadata": {
    "collapsed": false
   },
   "outputs": [
    {
     "data": {
      "text/plain": [
       "(13226, 7)"
      ]
     },
     "execution_count": 123,
     "metadata": {},
     "output_type": "execute_result"
    }
   ],
   "source": [
    "df.shape"
   ]
  },
  {
   "cell_type": "code",
   "execution_count": 124,
   "metadata": {
    "collapsed": false
   },
   "outputs": [
    {
     "data": {
      "text/html": [
       "<div>\n",
       "<table border=\"1\" class=\"dataframe\">\n",
       "  <thead>\n",
       "    <tr style=\"text-align: right;\">\n",
       "      <th></th>\n",
       "      <th>user_uuid</th>\n",
       "      <th>network_uuid</th>\n",
       "      <th>network_id</th>\n",
       "      <th>user_credit_score</th>\n",
       "      <th>network_credit_score</th>\n",
       "      <th>network_loan_amount</th>\n",
       "      <th>network_order_count</th>\n",
       "    </tr>\n",
       "  </thead>\n",
       "  <tbody>\n",
       "    <tr>\n",
       "      <th>0</th>\n",
       "      <td>f7633360-f9b1-11e6-a9c5-4f0b16583440</td>\n",
       "      <td>5d745180-f9c0-11e6-8558-8f833f3076cd</td>\n",
       "      <td>3</td>\n",
       "      <td>664.116614</td>\n",
       "      <td>603.549948</td>\n",
       "      <td>23500.0</td>\n",
       "      <td>7.0</td>\n",
       "    </tr>\n",
       "    <tr>\n",
       "      <th>1</th>\n",
       "      <td>f7633360-f9b1-11e6-a9c5-4f0b16583440</td>\n",
       "      <td>31622790-fdab-11e6-89b6-5ff7811f812a</td>\n",
       "      <td>3</td>\n",
       "      <td>664.116614</td>\n",
       "      <td>605.259469</td>\n",
       "      <td>4000.0</td>\n",
       "      <td>2.0</td>\n",
       "    </tr>\n",
       "    <tr>\n",
       "      <th>2</th>\n",
       "      <td>8105682408</td>\n",
       "      <td>7760810397</td>\n",
       "      <td>3</td>\n",
       "      <td>642.989050</td>\n",
       "      <td>785.345391</td>\n",
       "      <td>48360.0</td>\n",
       "      <td>34.0</td>\n",
       "    </tr>\n",
       "    <tr>\n",
       "      <th>3</th>\n",
       "      <td>8105682408</td>\n",
       "      <td>7829833982</td>\n",
       "      <td>3</td>\n",
       "      <td>642.989050</td>\n",
       "      <td>784.107971</td>\n",
       "      <td>57615.0</td>\n",
       "      <td>152.0</td>\n",
       "    </tr>\n",
       "    <tr>\n",
       "      <th>4</th>\n",
       "      <td>8105682408</td>\n",
       "      <td>9845075927</td>\n",
       "      <td>3</td>\n",
       "      <td>642.989050</td>\n",
       "      <td>651.418879</td>\n",
       "      <td>0.0</td>\n",
       "      <td>0.0</td>\n",
       "    </tr>\n",
       "  </tbody>\n",
       "</table>\n",
       "</div>"
      ],
      "text/plain": [
       "                              user_uuid                          network_uuid  \\\n",
       "0  f7633360-f9b1-11e6-a9c5-4f0b16583440  5d745180-f9c0-11e6-8558-8f833f3076cd   \n",
       "1  f7633360-f9b1-11e6-a9c5-4f0b16583440  31622790-fdab-11e6-89b6-5ff7811f812a   \n",
       "2                            8105682408                            7760810397   \n",
       "3                            8105682408                            7829833982   \n",
       "4                            8105682408                            9845075927   \n",
       "\n",
       "   network_id  user_credit_score  network_credit_score  network_loan_amount  \\\n",
       "0           3         664.116614            603.549948              23500.0   \n",
       "1           3         664.116614            605.259469               4000.0   \n",
       "2           3         642.989050            785.345391              48360.0   \n",
       "3           3         642.989050            784.107971              57615.0   \n",
       "4           3         642.989050            651.418879                  0.0   \n",
       "\n",
       "   network_order_count  \n",
       "0                  7.0  \n",
       "1                  2.0  \n",
       "2                 34.0  \n",
       "3                152.0  \n",
       "4                  0.0  "
      ]
     },
     "execution_count": 124,
     "metadata": {},
     "output_type": "execute_result"
    }
   ],
   "source": [
    "df.head()"
   ]
  },
  {
   "cell_type": "code",
   "execution_count": 125,
   "metadata": {
    "collapsed": false
   },
   "outputs": [
    {
     "data": {
      "text/html": [
       "<div>\n",
       "<table border=\"1\" class=\"dataframe\">\n",
       "  <thead>\n",
       "    <tr style=\"text-align: right;\">\n",
       "      <th></th>\n",
       "      <th>user_uuid</th>\n",
       "      <th>network_uuid</th>\n",
       "      <th>network_id</th>\n",
       "      <th>user_credit_score</th>\n",
       "      <th>network_credit_score</th>\n",
       "      <th>network_loan_amount</th>\n",
       "      <th>network_order_count</th>\n",
       "    </tr>\n",
       "  </thead>\n",
       "  <tbody>\n",
       "    <tr>\n",
       "      <th>0</th>\n",
       "      <td>f7633360-f9b1-11e6-a9c5-4f0b16583440</td>\n",
       "      <td>5d745180-f9c0-11e6-8558-8f833f3076cd</td>\n",
       "      <td>3</td>\n",
       "      <td>664.116614</td>\n",
       "      <td>603.549948</td>\n",
       "      <td>23500.0</td>\n",
       "      <td>7.0</td>\n",
       "    </tr>\n",
       "    <tr>\n",
       "      <th>1</th>\n",
       "      <td>f7633360-f9b1-11e6-a9c5-4f0b16583440</td>\n",
       "      <td>31622790-fdab-11e6-89b6-5ff7811f812a</td>\n",
       "      <td>3</td>\n",
       "      <td>664.116614</td>\n",
       "      <td>605.259469</td>\n",
       "      <td>4000.0</td>\n",
       "      <td>2.0</td>\n",
       "    </tr>\n",
       "    <tr>\n",
       "      <th>2</th>\n",
       "      <td>8105682408</td>\n",
       "      <td>7760810397</td>\n",
       "      <td>3</td>\n",
       "      <td>642.989050</td>\n",
       "      <td>785.345391</td>\n",
       "      <td>48360.0</td>\n",
       "      <td>34.0</td>\n",
       "    </tr>\n",
       "    <tr>\n",
       "      <th>3</th>\n",
       "      <td>8105682408</td>\n",
       "      <td>7829833982</td>\n",
       "      <td>3</td>\n",
       "      <td>642.989050</td>\n",
       "      <td>784.107971</td>\n",
       "      <td>57615.0</td>\n",
       "      <td>152.0</td>\n",
       "    </tr>\n",
       "    <tr>\n",
       "      <th>4</th>\n",
       "      <td>8105682408</td>\n",
       "      <td>9845075927</td>\n",
       "      <td>3</td>\n",
       "      <td>642.989050</td>\n",
       "      <td>651.418879</td>\n",
       "      <td>0.0</td>\n",
       "      <td>0.0</td>\n",
       "    </tr>\n",
       "  </tbody>\n",
       "</table>\n",
       "</div>"
      ],
      "text/plain": [
       "                              user_uuid                          network_uuid  \\\n",
       "0  f7633360-f9b1-11e6-a9c5-4f0b16583440  5d745180-f9c0-11e6-8558-8f833f3076cd   \n",
       "1  f7633360-f9b1-11e6-a9c5-4f0b16583440  31622790-fdab-11e6-89b6-5ff7811f812a   \n",
       "2                            8105682408                            7760810397   \n",
       "3                            8105682408                            7829833982   \n",
       "4                            8105682408                            9845075927   \n",
       "\n",
       "   network_id  user_credit_score  network_credit_score  network_loan_amount  \\\n",
       "0           3         664.116614            603.549948              23500.0   \n",
       "1           3         664.116614            605.259469               4000.0   \n",
       "2           3         642.989050            785.345391              48360.0   \n",
       "3           3         642.989050            784.107971              57615.0   \n",
       "4           3         642.989050            651.418879                  0.0   \n",
       "\n",
       "   network_order_count  \n",
       "0                  7.0  \n",
       "1                  2.0  \n",
       "2                 34.0  \n",
       "3                152.0  \n",
       "4                  0.0  "
      ]
     },
     "execution_count": 125,
     "metadata": {},
     "output_type": "execute_result"
    }
   ],
   "source": [
    "df.head()"
   ]
  },
  {
   "cell_type": "code",
   "execution_count": 126,
   "metadata": {
    "collapsed": false
   },
   "outputs": [
    {
     "data": {
      "text/plain": [
       "(10519, 7)"
      ]
     },
     "execution_count": 126,
     "metadata": {},
     "output_type": "execute_result"
    }
   ],
   "source": [
    "df['network_loan_amount']==0\n",
    "resultant_df = df[df['network_loan_amount'] != 0]\n",
    "resultant_df.shape"
   ]
  },
  {
   "cell_type": "code",
   "execution_count": 127,
   "metadata": {
    "collapsed": false
   },
   "outputs": [
    {
     "data": {
      "text/plain": [
       "(10519, 7)"
      ]
     },
     "execution_count": 127,
     "metadata": {},
     "output_type": "execute_result"
    }
   ],
   "source": [
    "resultant_df.shape\n",
    "# df.user_uuid.value_counts() > 1"
   ]
  },
  {
   "cell_type": "code",
   "execution_count": 128,
   "metadata": {
    "collapsed": false
   },
   "outputs": [],
   "source": [
    "import numpy as np\n",
    "grouped=resultant_df.groupby('user_uuid')\n",
    "g_wavg= lambda x: np.average(x.network_credit_score, weights=x.network_loan_amount)\n",
    "group_cs = grouped.apply(g_wavg)\n",
    "\n",
    "# df.head()"
   ]
  },
  {
   "cell_type": "code",
   "execution_count": 129,
   "metadata": {
    "collapsed": false
   },
   "outputs": [],
   "source": [
    "final_df = pd.DataFrame(group_cs)"
   ]
  },
  {
   "cell_type": "code",
   "execution_count": 130,
   "metadata": {
    "collapsed": false
   },
   "outputs": [],
   "source": [
    "final_df.reset_index(level=0,inplace=True)\n",
    "final_df.to_csv('cumulative.csv')"
   ]
  },
  {
   "cell_type": "code",
   "execution_count": 136,
   "metadata": {
    "collapsed": false
   },
   "outputs": [],
   "source": [
    "# final_df.head()\n",
    "data_df = pd.merge(resultant_df,final_df,how=\"left\",on=\"user_uuid\")"
   ]
  },
  {
   "cell_type": "code",
   "execution_count": 137,
   "metadata": {
    "collapsed": false
   },
   "outputs": [
    {
     "data": {
      "text/html": [
       "<div>\n",
       "<table border=\"1\" class=\"dataframe\">\n",
       "  <thead>\n",
       "    <tr style=\"text-align: right;\">\n",
       "      <th></th>\n",
       "      <th>user_uuid</th>\n",
       "      <th>network_uuid</th>\n",
       "      <th>network_id</th>\n",
       "      <th>user_credit_score</th>\n",
       "      <th>network_credit_score</th>\n",
       "      <th>network_loan_amount</th>\n",
       "      <th>network_order_count</th>\n",
       "      <th>0</th>\n",
       "    </tr>\n",
       "  </thead>\n",
       "  <tbody>\n",
       "    <tr>\n",
       "      <th>0</th>\n",
       "      <td>f7633360-f9b1-11e6-a9c5-4f0b16583440</td>\n",
       "      <td>5d745180-f9c0-11e6-8558-8f833f3076cd</td>\n",
       "      <td>3</td>\n",
       "      <td>664.116614</td>\n",
       "      <td>603.549948</td>\n",
       "      <td>23500.0</td>\n",
       "      <td>7.0</td>\n",
       "      <td>603.798606</td>\n",
       "    </tr>\n",
       "    <tr>\n",
       "      <th>1</th>\n",
       "      <td>f7633360-f9b1-11e6-a9c5-4f0b16583440</td>\n",
       "      <td>31622790-fdab-11e6-89b6-5ff7811f812a</td>\n",
       "      <td>3</td>\n",
       "      <td>664.116614</td>\n",
       "      <td>605.259469</td>\n",
       "      <td>4000.0</td>\n",
       "      <td>2.0</td>\n",
       "      <td>603.798606</td>\n",
       "    </tr>\n",
       "    <tr>\n",
       "      <th>2</th>\n",
       "      <td>8105682408</td>\n",
       "      <td>7760810397</td>\n",
       "      <td>3</td>\n",
       "      <td>642.989050</td>\n",
       "      <td>785.345391</td>\n",
       "      <td>48360.0</td>\n",
       "      <td>34.0</td>\n",
       "      <td>784.672648</td>\n",
       "    </tr>\n",
       "    <tr>\n",
       "      <th>3</th>\n",
       "      <td>8105682408</td>\n",
       "      <td>7829833982</td>\n",
       "      <td>3</td>\n",
       "      <td>642.989050</td>\n",
       "      <td>784.107971</td>\n",
       "      <td>57615.0</td>\n",
       "      <td>152.0</td>\n",
       "      <td>784.672648</td>\n",
       "    </tr>\n",
       "    <tr>\n",
       "      <th>4</th>\n",
       "      <td>8553229080</td>\n",
       "      <td>5504b750-e1ed-11e6-b685-7942eecceaad</td>\n",
       "      <td>3</td>\n",
       "      <td>608.350119</td>\n",
       "      <td>799.981096</td>\n",
       "      <td>20000.0</td>\n",
       "      <td>2.0</td>\n",
       "      <td>797.565962</td>\n",
       "    </tr>\n",
       "  </tbody>\n",
       "</table>\n",
       "</div>"
      ],
      "text/plain": [
       "                              user_uuid                          network_uuid  \\\n",
       "0  f7633360-f9b1-11e6-a9c5-4f0b16583440  5d745180-f9c0-11e6-8558-8f833f3076cd   \n",
       "1  f7633360-f9b1-11e6-a9c5-4f0b16583440  31622790-fdab-11e6-89b6-5ff7811f812a   \n",
       "2                            8105682408                            7760810397   \n",
       "3                            8105682408                            7829833982   \n",
       "4                            8553229080  5504b750-e1ed-11e6-b685-7942eecceaad   \n",
       "\n",
       "   network_id  user_credit_score  network_credit_score  network_loan_amount  \\\n",
       "0           3         664.116614            603.549948              23500.0   \n",
       "1           3         664.116614            605.259469               4000.0   \n",
       "2           3         642.989050            785.345391              48360.0   \n",
       "3           3         642.989050            784.107971              57615.0   \n",
       "4           3         608.350119            799.981096              20000.0   \n",
       "\n",
       "   network_order_count           0  \n",
       "0                  7.0  603.798606  \n",
       "1                  2.0  603.798606  \n",
       "2                 34.0  784.672648  \n",
       "3                152.0  784.672648  \n",
       "4                  2.0  797.565962  "
      ]
     },
     "execution_count": 137,
     "metadata": {},
     "output_type": "execute_result"
    }
   ],
   "source": [
    "data_df.head()"
   ]
  },
  {
   "cell_type": "code",
   "execution_count": 138,
   "metadata": {
    "collapsed": false
   },
   "outputs": [
    {
     "data": {
      "text/html": [
       "<div>\n",
       "<table border=\"1\" class=\"dataframe\">\n",
       "  <thead>\n",
       "    <tr style=\"text-align: right;\">\n",
       "      <th></th>\n",
       "      <th>user_uuid</th>\n",
       "      <th>network_uuid</th>\n",
       "      <th>network_id</th>\n",
       "      <th>user_credit_score</th>\n",
       "      <th>network_credit_score</th>\n",
       "      <th>network_loan_amount</th>\n",
       "      <th>network_order_count</th>\n",
       "      <th>0</th>\n",
       "    </tr>\n",
       "  </thead>\n",
       "  <tbody>\n",
       "    <tr>\n",
       "      <th>0</th>\n",
       "      <td>f7633360-f9b1-11e6-a9c5-4f0b16583440</td>\n",
       "      <td>5d745180-f9c0-11e6-8558-8f833f3076cd</td>\n",
       "      <td>3</td>\n",
       "      <td>664.116614</td>\n",
       "      <td>603.549948</td>\n",
       "      <td>23500.0</td>\n",
       "      <td>7.0</td>\n",
       "      <td>603.798606</td>\n",
       "    </tr>\n",
       "    <tr>\n",
       "      <th>1</th>\n",
       "      <td>f7633360-f9b1-11e6-a9c5-4f0b16583440</td>\n",
       "      <td>31622790-fdab-11e6-89b6-5ff7811f812a</td>\n",
       "      <td>3</td>\n",
       "      <td>664.116614</td>\n",
       "      <td>605.259469</td>\n",
       "      <td>4000.0</td>\n",
       "      <td>2.0</td>\n",
       "      <td>603.798606</td>\n",
       "    </tr>\n",
       "    <tr>\n",
       "      <th>2</th>\n",
       "      <td>8105682408</td>\n",
       "      <td>7760810397</td>\n",
       "      <td>3</td>\n",
       "      <td>642.989050</td>\n",
       "      <td>785.345391</td>\n",
       "      <td>48360.0</td>\n",
       "      <td>34.0</td>\n",
       "      <td>784.672648</td>\n",
       "    </tr>\n",
       "    <tr>\n",
       "      <th>3</th>\n",
       "      <td>8105682408</td>\n",
       "      <td>7829833982</td>\n",
       "      <td>3</td>\n",
       "      <td>642.989050</td>\n",
       "      <td>784.107971</td>\n",
       "      <td>57615.0</td>\n",
       "      <td>152.0</td>\n",
       "      <td>784.672648</td>\n",
       "    </tr>\n",
       "    <tr>\n",
       "      <th>4</th>\n",
       "      <td>8553229080</td>\n",
       "      <td>5504b750-e1ed-11e6-b685-7942eecceaad</td>\n",
       "      <td>3</td>\n",
       "      <td>608.350119</td>\n",
       "      <td>799.981096</td>\n",
       "      <td>20000.0</td>\n",
       "      <td>2.0</td>\n",
       "      <td>797.565962</td>\n",
       "    </tr>\n",
       "  </tbody>\n",
       "</table>\n",
       "</div>"
      ],
      "text/plain": [
       "                              user_uuid                          network_uuid  \\\n",
       "0  f7633360-f9b1-11e6-a9c5-4f0b16583440  5d745180-f9c0-11e6-8558-8f833f3076cd   \n",
       "1  f7633360-f9b1-11e6-a9c5-4f0b16583440  31622790-fdab-11e6-89b6-5ff7811f812a   \n",
       "2                            8105682408                            7760810397   \n",
       "3                            8105682408                            7829833982   \n",
       "4                            8553229080  5504b750-e1ed-11e6-b685-7942eecceaad   \n",
       "\n",
       "   network_id  user_credit_score  network_credit_score  network_loan_amount  \\\n",
       "0           3         664.116614            603.549948              23500.0   \n",
       "1           3         664.116614            605.259469               4000.0   \n",
       "2           3         642.989050            785.345391              48360.0   \n",
       "3           3         642.989050            784.107971              57615.0   \n",
       "4           3         608.350119            799.981096              20000.0   \n",
       "\n",
       "   network_order_count           0  \n",
       "0                  7.0  603.798606  \n",
       "1                  2.0  603.798606  \n",
       "2                 34.0  784.672648  \n",
       "3                152.0  784.672648  \n",
       "4                  2.0  797.565962  "
      ]
     },
     "execution_count": 138,
     "metadata": {},
     "output_type": "execute_result"
    }
   ],
   "source": [
    "data_df.head()"
   ]
  },
  {
   "cell_type": "code",
   "execution_count": 140,
   "metadata": {
    "collapsed": false
   },
   "outputs": [],
   "source": [
    "data_df = data_df[['user_uuid','user_credit_score',0]]"
   ]
  },
  {
   "cell_type": "code",
   "execution_count": 142,
   "metadata": {
    "collapsed": false
   },
   "outputs": [
    {
     "data": {
      "text/html": [
       "<div>\n",
       "<table border=\"1\" class=\"dataframe\">\n",
       "  <thead>\n",
       "    <tr style=\"text-align: right;\">\n",
       "      <th></th>\n",
       "      <th>user_uuid</th>\n",
       "      <th>user_credit_score</th>\n",
       "      <th>cumulative_network_cs</th>\n",
       "    </tr>\n",
       "  </thead>\n",
       "  <tbody>\n",
       "    <tr>\n",
       "      <th>0</th>\n",
       "      <td>f7633360-f9b1-11e6-a9c5-4f0b16583440</td>\n",
       "      <td>664.116614</td>\n",
       "      <td>603.798606</td>\n",
       "    </tr>\n",
       "    <tr>\n",
       "      <th>1</th>\n",
       "      <td>f7633360-f9b1-11e6-a9c5-4f0b16583440</td>\n",
       "      <td>664.116614</td>\n",
       "      <td>603.798606</td>\n",
       "    </tr>\n",
       "    <tr>\n",
       "      <th>2</th>\n",
       "      <td>8105682408</td>\n",
       "      <td>642.989050</td>\n",
       "      <td>784.672648</td>\n",
       "    </tr>\n",
       "    <tr>\n",
       "      <th>3</th>\n",
       "      <td>8105682408</td>\n",
       "      <td>642.989050</td>\n",
       "      <td>784.672648</td>\n",
       "    </tr>\n",
       "    <tr>\n",
       "      <th>4</th>\n",
       "      <td>8553229080</td>\n",
       "      <td>608.350119</td>\n",
       "      <td>797.565962</td>\n",
       "    </tr>\n",
       "    <tr>\n",
       "      <th>5</th>\n",
       "      <td>8553229080</td>\n",
       "      <td>608.350119</td>\n",
       "      <td>797.565962</td>\n",
       "    </tr>\n",
       "    <tr>\n",
       "      <th>6</th>\n",
       "      <td>8553229080</td>\n",
       "      <td>608.350119</td>\n",
       "      <td>797.565962</td>\n",
       "    </tr>\n",
       "    <tr>\n",
       "      <th>7</th>\n",
       "      <td>8553229080</td>\n",
       "      <td>608.350119</td>\n",
       "      <td>797.565962</td>\n",
       "    </tr>\n",
       "    <tr>\n",
       "      <th>8</th>\n",
       "      <td>7275084496</td>\n",
       "      <td>799.989611</td>\n",
       "      <td>766.289744</td>\n",
       "    </tr>\n",
       "    <tr>\n",
       "      <th>9</th>\n",
       "      <td>7275084496</td>\n",
       "      <td>799.989611</td>\n",
       "      <td>766.289744</td>\n",
       "    </tr>\n",
       "    <tr>\n",
       "      <th>10</th>\n",
       "      <td>7275084496</td>\n",
       "      <td>799.989611</td>\n",
       "      <td>766.289744</td>\n",
       "    </tr>\n",
       "    <tr>\n",
       "      <th>11</th>\n",
       "      <td>7275084496</td>\n",
       "      <td>799.989611</td>\n",
       "      <td>766.289744</td>\n",
       "    </tr>\n",
       "    <tr>\n",
       "      <th>12</th>\n",
       "      <td>7275084496</td>\n",
       "      <td>799.989611</td>\n",
       "      <td>766.289744</td>\n",
       "    </tr>\n",
       "    <tr>\n",
       "      <th>13</th>\n",
       "      <td>7275084496</td>\n",
       "      <td>799.989611</td>\n",
       "      <td>766.289744</td>\n",
       "    </tr>\n",
       "    <tr>\n",
       "      <th>14</th>\n",
       "      <td>7275084496</td>\n",
       "      <td>799.989611</td>\n",
       "      <td>766.289744</td>\n",
       "    </tr>\n",
       "    <tr>\n",
       "      <th>15</th>\n",
       "      <td>7275084496</td>\n",
       "      <td>799.989611</td>\n",
       "      <td>766.289744</td>\n",
       "    </tr>\n",
       "    <tr>\n",
       "      <th>16</th>\n",
       "      <td>7275084496</td>\n",
       "      <td>799.989611</td>\n",
       "      <td>766.289744</td>\n",
       "    </tr>\n",
       "    <tr>\n",
       "      <th>17</th>\n",
       "      <td>7275084496</td>\n",
       "      <td>799.989611</td>\n",
       "      <td>766.289744</td>\n",
       "    </tr>\n",
       "    <tr>\n",
       "      <th>18</th>\n",
       "      <td>7275084496</td>\n",
       "      <td>799.989611</td>\n",
       "      <td>766.289744</td>\n",
       "    </tr>\n",
       "    <tr>\n",
       "      <th>19</th>\n",
       "      <td>7275084496</td>\n",
       "      <td>799.989611</td>\n",
       "      <td>766.289744</td>\n",
       "    </tr>\n",
       "    <tr>\n",
       "      <th>20</th>\n",
       "      <td>7275084496</td>\n",
       "      <td>799.989611</td>\n",
       "      <td>766.289744</td>\n",
       "    </tr>\n",
       "    <tr>\n",
       "      <th>21</th>\n",
       "      <td>7275084496</td>\n",
       "      <td>799.989611</td>\n",
       "      <td>766.289744</td>\n",
       "    </tr>\n",
       "    <tr>\n",
       "      <th>22</th>\n",
       "      <td>7275084496</td>\n",
       "      <td>799.989611</td>\n",
       "      <td>766.289744</td>\n",
       "    </tr>\n",
       "    <tr>\n",
       "      <th>23</th>\n",
       "      <td>7275084496</td>\n",
       "      <td>799.989611</td>\n",
       "      <td>766.289744</td>\n",
       "    </tr>\n",
       "    <tr>\n",
       "      <th>24</th>\n",
       "      <td>7275084496</td>\n",
       "      <td>799.989611</td>\n",
       "      <td>766.289744</td>\n",
       "    </tr>\n",
       "    <tr>\n",
       "      <th>25</th>\n",
       "      <td>7275084496</td>\n",
       "      <td>799.989611</td>\n",
       "      <td>766.289744</td>\n",
       "    </tr>\n",
       "    <tr>\n",
       "      <th>26</th>\n",
       "      <td>7275084496</td>\n",
       "      <td>799.989611</td>\n",
       "      <td>766.289744</td>\n",
       "    </tr>\n",
       "    <tr>\n",
       "      <th>27</th>\n",
       "      <td>7275084496</td>\n",
       "      <td>799.989611</td>\n",
       "      <td>766.289744</td>\n",
       "    </tr>\n",
       "    <tr>\n",
       "      <th>28</th>\n",
       "      <td>7275084496</td>\n",
       "      <td>799.989611</td>\n",
       "      <td>766.289744</td>\n",
       "    </tr>\n",
       "    <tr>\n",
       "      <th>29</th>\n",
       "      <td>7275084496</td>\n",
       "      <td>799.989611</td>\n",
       "      <td>766.289744</td>\n",
       "    </tr>\n",
       "    <tr>\n",
       "      <th>...</th>\n",
       "      <td>...</td>\n",
       "      <td>...</td>\n",
       "      <td>...</td>\n",
       "    </tr>\n",
       "    <tr>\n",
       "      <th>10489</th>\n",
       "      <td>8553732931</td>\n",
       "      <td>607.999017</td>\n",
       "      <td>796.126439</td>\n",
       "    </tr>\n",
       "    <tr>\n",
       "      <th>10490</th>\n",
       "      <td>8553732931</td>\n",
       "      <td>607.999017</td>\n",
       "      <td>796.126439</td>\n",
       "    </tr>\n",
       "    <tr>\n",
       "      <th>10491</th>\n",
       "      <td>59d23470-2837-11e7-9d70-a9f74712d401</td>\n",
       "      <td>799.988640</td>\n",
       "      <td>602.686970</td>\n",
       "    </tr>\n",
       "    <tr>\n",
       "      <th>10492</th>\n",
       "      <td>367903d0-d807-11e6-9f02-55bfbead9d00</td>\n",
       "      <td>798.452916</td>\n",
       "      <td>NaN</td>\n",
       "    </tr>\n",
       "    <tr>\n",
       "      <th>10493</th>\n",
       "      <td>367903d0-d807-11e6-9f02-55bfbead9d00</td>\n",
       "      <td>798.452916</td>\n",
       "      <td>NaN</td>\n",
       "    </tr>\n",
       "    <tr>\n",
       "      <th>10494</th>\n",
       "      <td>367903d0-d807-11e6-9f02-55bfbead9d00</td>\n",
       "      <td>798.452916</td>\n",
       "      <td>NaN</td>\n",
       "    </tr>\n",
       "    <tr>\n",
       "      <th>10495</th>\n",
       "      <td>367903d0-d807-11e6-9f02-55bfbead9d00</td>\n",
       "      <td>798.452916</td>\n",
       "      <td>NaN</td>\n",
       "    </tr>\n",
       "    <tr>\n",
       "      <th>10496</th>\n",
       "      <td>367903d0-d807-11e6-9f02-55bfbead9d00</td>\n",
       "      <td>798.452916</td>\n",
       "      <td>NaN</td>\n",
       "    </tr>\n",
       "    <tr>\n",
       "      <th>10497</th>\n",
       "      <td>367903d0-d807-11e6-9f02-55bfbead9d00</td>\n",
       "      <td>798.452916</td>\n",
       "      <td>NaN</td>\n",
       "    </tr>\n",
       "    <tr>\n",
       "      <th>10498</th>\n",
       "      <td>367903d0-d807-11e6-9f02-55bfbead9d00</td>\n",
       "      <td>798.452916</td>\n",
       "      <td>NaN</td>\n",
       "    </tr>\n",
       "    <tr>\n",
       "      <th>10499</th>\n",
       "      <td>367903d0-d807-11e6-9f02-55bfbead9d00</td>\n",
       "      <td>798.452916</td>\n",
       "      <td>NaN</td>\n",
       "    </tr>\n",
       "    <tr>\n",
       "      <th>10500</th>\n",
       "      <td>367903d0-d807-11e6-9f02-55bfbead9d00</td>\n",
       "      <td>798.452916</td>\n",
       "      <td>NaN</td>\n",
       "    </tr>\n",
       "    <tr>\n",
       "      <th>10501</th>\n",
       "      <td>367903d0-d807-11e6-9f02-55bfbead9d00</td>\n",
       "      <td>798.452916</td>\n",
       "      <td>NaN</td>\n",
       "    </tr>\n",
       "    <tr>\n",
       "      <th>10502</th>\n",
       "      <td>a88c5210-09ad-11e7-b7d3-87109c3be552</td>\n",
       "      <td>798.933729</td>\n",
       "      <td>744.852292</td>\n",
       "    </tr>\n",
       "    <tr>\n",
       "      <th>10503</th>\n",
       "      <td>8168e510-20ee-11e7-b2b0-ab92f3e5b5d8</td>\n",
       "      <td>799.661178</td>\n",
       "      <td>761.570501</td>\n",
       "    </tr>\n",
       "    <tr>\n",
       "      <th>10504</th>\n",
       "      <td>de0f7d90-1245-11e7-9d96-e9cdeb4076fc</td>\n",
       "      <td>790.896485</td>\n",
       "      <td>797.662631</td>\n",
       "    </tr>\n",
       "    <tr>\n",
       "      <th>10505</th>\n",
       "      <td>de0f7d90-1245-11e7-9d96-e9cdeb4076fc</td>\n",
       "      <td>790.896485</td>\n",
       "      <td>797.662631</td>\n",
       "    </tr>\n",
       "    <tr>\n",
       "      <th>10506</th>\n",
       "      <td>de0f7d90-1245-11e7-9d96-e9cdeb4076fc</td>\n",
       "      <td>790.896485</td>\n",
       "      <td>797.662631</td>\n",
       "    </tr>\n",
       "    <tr>\n",
       "      <th>10507</th>\n",
       "      <td>de0f7d90-1245-11e7-9d96-e9cdeb4076fc</td>\n",
       "      <td>790.896485</td>\n",
       "      <td>797.662631</td>\n",
       "    </tr>\n",
       "    <tr>\n",
       "      <th>10508</th>\n",
       "      <td>de0f7d90-1245-11e7-9d96-e9cdeb4076fc</td>\n",
       "      <td>790.896485</td>\n",
       "      <td>797.662631</td>\n",
       "    </tr>\n",
       "    <tr>\n",
       "      <th>10509</th>\n",
       "      <td>de0f7d90-1245-11e7-9d96-e9cdeb4076fc</td>\n",
       "      <td>790.896485</td>\n",
       "      <td>797.662631</td>\n",
       "    </tr>\n",
       "    <tr>\n",
       "      <th>10510</th>\n",
       "      <td>de0f7d90-1245-11e7-9d96-e9cdeb4076fc</td>\n",
       "      <td>790.896485</td>\n",
       "      <td>797.662631</td>\n",
       "    </tr>\n",
       "    <tr>\n",
       "      <th>10511</th>\n",
       "      <td>de0f7d90-1245-11e7-9d96-e9cdeb4076fc</td>\n",
       "      <td>790.896485</td>\n",
       "      <td>797.662631</td>\n",
       "    </tr>\n",
       "    <tr>\n",
       "      <th>10512</th>\n",
       "      <td>6c9e57b0-4113-11e7-8954-3dd362feb293</td>\n",
       "      <td>799.980282</td>\n",
       "      <td>651.692636</td>\n",
       "    </tr>\n",
       "    <tr>\n",
       "      <th>10513</th>\n",
       "      <td>a756b150-3a0a-11e7-8604-85352cd80e04</td>\n",
       "      <td>799.684657</td>\n",
       "      <td>799.272959</td>\n",
       "    </tr>\n",
       "    <tr>\n",
       "      <th>10514</th>\n",
       "      <td>a1c8b170-115b-11e7-9d96-e9cdeb4076fc</td>\n",
       "      <td>651.692636</td>\n",
       "      <td>600.000000</td>\n",
       "    </tr>\n",
       "    <tr>\n",
       "      <th>10515</th>\n",
       "      <td>a100ed70-de3e-11e6-aa79-1bde32099ed8</td>\n",
       "      <td>799.999622</td>\n",
       "      <td>799.999622</td>\n",
       "    </tr>\n",
       "    <tr>\n",
       "      <th>10516</th>\n",
       "      <td>632ec500-f7f0-11e6-9a0a-89e8b7c29667</td>\n",
       "      <td>607.818295</td>\n",
       "      <td>607.999017</td>\n",
       "    </tr>\n",
       "    <tr>\n",
       "      <th>10517</th>\n",
       "      <td>35568730-398b-11e7-8604-85352cd80e04</td>\n",
       "      <td>774.954514</td>\n",
       "      <td>799.828871</td>\n",
       "    </tr>\n",
       "    <tr>\n",
       "      <th>10518</th>\n",
       "      <td>35568730-398b-11e7-8604-85352cd80e04</td>\n",
       "      <td>774.954514</td>\n",
       "      <td>799.828871</td>\n",
       "    </tr>\n",
       "  </tbody>\n",
       "</table>\n",
       "<p>10519 rows × 3 columns</p>\n",
       "</div>"
      ],
      "text/plain": [
       "                                  user_uuid  user_credit_score  \\\n",
       "0      f7633360-f9b1-11e6-a9c5-4f0b16583440         664.116614   \n",
       "1      f7633360-f9b1-11e6-a9c5-4f0b16583440         664.116614   \n",
       "2                                8105682408         642.989050   \n",
       "3                                8105682408         642.989050   \n",
       "4                                8553229080         608.350119   \n",
       "5                                8553229080         608.350119   \n",
       "6                                8553229080         608.350119   \n",
       "7                                8553229080         608.350119   \n",
       "8                                7275084496         799.989611   \n",
       "9                                7275084496         799.989611   \n",
       "10                               7275084496         799.989611   \n",
       "11                               7275084496         799.989611   \n",
       "12                               7275084496         799.989611   \n",
       "13                               7275084496         799.989611   \n",
       "14                               7275084496         799.989611   \n",
       "15                               7275084496         799.989611   \n",
       "16                               7275084496         799.989611   \n",
       "17                               7275084496         799.989611   \n",
       "18                               7275084496         799.989611   \n",
       "19                               7275084496         799.989611   \n",
       "20                               7275084496         799.989611   \n",
       "21                               7275084496         799.989611   \n",
       "22                               7275084496         799.989611   \n",
       "23                               7275084496         799.989611   \n",
       "24                               7275084496         799.989611   \n",
       "25                               7275084496         799.989611   \n",
       "26                               7275084496         799.989611   \n",
       "27                               7275084496         799.989611   \n",
       "28                               7275084496         799.989611   \n",
       "29                               7275084496         799.989611   \n",
       "...                                     ...                ...   \n",
       "10489                            8553732931         607.999017   \n",
       "10490                            8553732931         607.999017   \n",
       "10491  59d23470-2837-11e7-9d70-a9f74712d401         799.988640   \n",
       "10492  367903d0-d807-11e6-9f02-55bfbead9d00         798.452916   \n",
       "10493  367903d0-d807-11e6-9f02-55bfbead9d00         798.452916   \n",
       "10494  367903d0-d807-11e6-9f02-55bfbead9d00         798.452916   \n",
       "10495  367903d0-d807-11e6-9f02-55bfbead9d00         798.452916   \n",
       "10496  367903d0-d807-11e6-9f02-55bfbead9d00         798.452916   \n",
       "10497  367903d0-d807-11e6-9f02-55bfbead9d00         798.452916   \n",
       "10498  367903d0-d807-11e6-9f02-55bfbead9d00         798.452916   \n",
       "10499  367903d0-d807-11e6-9f02-55bfbead9d00         798.452916   \n",
       "10500  367903d0-d807-11e6-9f02-55bfbead9d00         798.452916   \n",
       "10501  367903d0-d807-11e6-9f02-55bfbead9d00         798.452916   \n",
       "10502  a88c5210-09ad-11e7-b7d3-87109c3be552         798.933729   \n",
       "10503  8168e510-20ee-11e7-b2b0-ab92f3e5b5d8         799.661178   \n",
       "10504  de0f7d90-1245-11e7-9d96-e9cdeb4076fc         790.896485   \n",
       "10505  de0f7d90-1245-11e7-9d96-e9cdeb4076fc         790.896485   \n",
       "10506  de0f7d90-1245-11e7-9d96-e9cdeb4076fc         790.896485   \n",
       "10507  de0f7d90-1245-11e7-9d96-e9cdeb4076fc         790.896485   \n",
       "10508  de0f7d90-1245-11e7-9d96-e9cdeb4076fc         790.896485   \n",
       "10509  de0f7d90-1245-11e7-9d96-e9cdeb4076fc         790.896485   \n",
       "10510  de0f7d90-1245-11e7-9d96-e9cdeb4076fc         790.896485   \n",
       "10511  de0f7d90-1245-11e7-9d96-e9cdeb4076fc         790.896485   \n",
       "10512  6c9e57b0-4113-11e7-8954-3dd362feb293         799.980282   \n",
       "10513  a756b150-3a0a-11e7-8604-85352cd80e04         799.684657   \n",
       "10514  a1c8b170-115b-11e7-9d96-e9cdeb4076fc         651.692636   \n",
       "10515  a100ed70-de3e-11e6-aa79-1bde32099ed8         799.999622   \n",
       "10516  632ec500-f7f0-11e6-9a0a-89e8b7c29667         607.818295   \n",
       "10517  35568730-398b-11e7-8604-85352cd80e04         774.954514   \n",
       "10518  35568730-398b-11e7-8604-85352cd80e04         774.954514   \n",
       "\n",
       "       cumulative_network_cs  \n",
       "0                 603.798606  \n",
       "1                 603.798606  \n",
       "2                 784.672648  \n",
       "3                 784.672648  \n",
       "4                 797.565962  \n",
       "5                 797.565962  \n",
       "6                 797.565962  \n",
       "7                 797.565962  \n",
       "8                 766.289744  \n",
       "9                 766.289744  \n",
       "10                766.289744  \n",
       "11                766.289744  \n",
       "12                766.289744  \n",
       "13                766.289744  \n",
       "14                766.289744  \n",
       "15                766.289744  \n",
       "16                766.289744  \n",
       "17                766.289744  \n",
       "18                766.289744  \n",
       "19                766.289744  \n",
       "20                766.289744  \n",
       "21                766.289744  \n",
       "22                766.289744  \n",
       "23                766.289744  \n",
       "24                766.289744  \n",
       "25                766.289744  \n",
       "26                766.289744  \n",
       "27                766.289744  \n",
       "28                766.289744  \n",
       "29                766.289744  \n",
       "...                      ...  \n",
       "10489             796.126439  \n",
       "10490             796.126439  \n",
       "10491             602.686970  \n",
       "10492                    NaN  \n",
       "10493                    NaN  \n",
       "10494                    NaN  \n",
       "10495                    NaN  \n",
       "10496                    NaN  \n",
       "10497                    NaN  \n",
       "10498                    NaN  \n",
       "10499                    NaN  \n",
       "10500                    NaN  \n",
       "10501                    NaN  \n",
       "10502             744.852292  \n",
       "10503             761.570501  \n",
       "10504             797.662631  \n",
       "10505             797.662631  \n",
       "10506             797.662631  \n",
       "10507             797.662631  \n",
       "10508             797.662631  \n",
       "10509             797.662631  \n",
       "10510             797.662631  \n",
       "10511             797.662631  \n",
       "10512             651.692636  \n",
       "10513             799.272959  \n",
       "10514             600.000000  \n",
       "10515             799.999622  \n",
       "10516             607.999017  \n",
       "10517             799.828871  \n",
       "10518             799.828871  \n",
       "\n",
       "[10519 rows x 3 columns]"
      ]
     },
     "execution_count": 142,
     "metadata": {},
     "output_type": "execute_result"
    }
   ],
   "source": [
    "data_df.rename(columns={0:'cumulative_network_cs'})"
   ]
  },
  {
   "cell_type": "code",
   "execution_count": 143,
   "metadata": {
    "collapsed": true
   },
   "outputs": [],
   "source": [
    "# fin_df = data_df.duplicated('user_uuid', keep='first')"
   ]
  },
  {
   "cell_type": "code",
   "execution_count": 150,
   "metadata": {
    "collapsed": false
   },
   "outputs": [],
   "source": [
    "fin_df = data_df.loc[~data_df.duplicated('user_uuid', keep='first'),:]"
   ]
  },
  {
   "cell_type": "code",
   "execution_count": 152,
   "metadata": {
    "collapsed": false
   },
   "outputs": [
    {
     "data": {
      "text/plain": [
       "(4131, 3)"
      ]
     },
     "execution_count": 152,
     "metadata": {},
     "output_type": "execute_result"
    }
   ],
   "source": [
    "fin_df.shape"
   ]
  },
  {
   "cell_type": "code",
   "execution_count": 157,
   "metadata": {
    "collapsed": false
   },
   "outputs": [],
   "source": [
    "from sklearn.linear_model import LinearRegression"
   ]
  },
  {
   "cell_type": "code",
   "execution_count": 158,
   "metadata": {
    "collapsed": true
   },
   "outputs": [],
   "source": [
    "linReg = LinearRegression()"
   ]
  },
  {
   "cell_type": "code",
   "execution_count": 159,
   "metadata": {
    "collapsed": false
   },
   "outputs": [
    {
     "data": {
      "text/plain": [
       "LinearRegression(copy_X=True, fit_intercept=True, n_jobs=1, normalize=False)"
      ]
     },
     "execution_count": 159,
     "metadata": {},
     "output_type": "execute_result"
    }
   ],
   "source": [
    "linReg"
   ]
  },
  {
   "cell_type": "code",
   "execution_count": 164,
   "metadata": {
    "collapsed": false
   },
   "outputs": [
    {
     "name": "stderr",
     "output_type": "stream",
     "text": [
      "/Library/Python/2.7/site-packages/pandas/core/frame.py:2834: SettingWithCopyWarning: \n",
      "A value is trying to be set on a copy of a slice from a DataFrame\n",
      "\n",
      "See the caveats in the documentation: http://pandas.pydata.org/pandas-docs/stable/indexing.html#indexing-view-versus-copy\n",
      "  **kwargs)\n"
     ]
    }
   ],
   "source": [
    "fin_df.rename(columns={0:'cumulative_cs'}, inplace=True)"
   ]
  },
  {
   "cell_type": "code",
   "execution_count": 165,
   "metadata": {
    "collapsed": false
   },
   "outputs": [
    {
     "data": {
      "text/html": [
       "<div>\n",
       "<table border=\"1\" class=\"dataframe\">\n",
       "  <thead>\n",
       "    <tr style=\"text-align: right;\">\n",
       "      <th></th>\n",
       "      <th>user_uuid</th>\n",
       "      <th>user_credit_score</th>\n",
       "      <th>cumulative_cs</th>\n",
       "    </tr>\n",
       "  </thead>\n",
       "  <tbody>\n",
       "    <tr>\n",
       "      <th>0</th>\n",
       "      <td>f7633360-f9b1-11e6-a9c5-4f0b16583440</td>\n",
       "      <td>664.116614</td>\n",
       "      <td>603.798606</td>\n",
       "    </tr>\n",
       "    <tr>\n",
       "      <th>2</th>\n",
       "      <td>8105682408</td>\n",
       "      <td>642.989050</td>\n",
       "      <td>784.672648</td>\n",
       "    </tr>\n",
       "    <tr>\n",
       "      <th>4</th>\n",
       "      <td>8553229080</td>\n",
       "      <td>608.350119</td>\n",
       "      <td>797.565962</td>\n",
       "    </tr>\n",
       "    <tr>\n",
       "      <th>8</th>\n",
       "      <td>7275084496</td>\n",
       "      <td>799.989611</td>\n",
       "      <td>766.289744</td>\n",
       "    </tr>\n",
       "    <tr>\n",
       "      <th>31</th>\n",
       "      <td>9538500840</td>\n",
       "      <td>782.150195</td>\n",
       "      <td>729.691605</td>\n",
       "    </tr>\n",
       "  </tbody>\n",
       "</table>\n",
       "</div>"
      ],
      "text/plain": [
       "                               user_uuid  user_credit_score  cumulative_cs\n",
       "0   f7633360-f9b1-11e6-a9c5-4f0b16583440         664.116614     603.798606\n",
       "2                             8105682408         642.989050     784.672648\n",
       "4                             8553229080         608.350119     797.565962\n",
       "8                             7275084496         799.989611     766.289744\n",
       "31                            9538500840         782.150195     729.691605"
      ]
     },
     "execution_count": 165,
     "metadata": {},
     "output_type": "execute_result"
    }
   ],
   "source": [
    "fin_df.head()"
   ]
  },
  {
   "cell_type": "code",
   "execution_count": 205,
   "metadata": {
    "collapsed": false
   },
   "outputs": [],
   "source": [
    "fin_df = fin_df.dropna()\n",
    "# fin_df.to_csv('final_ref_model.csv')\n",
    "X = fin_df['cumulative_cs']"
   ]
  },
  {
   "cell_type": "code",
   "execution_count": 206,
   "metadata": {
    "collapsed": true
   },
   "outputs": [],
   "source": [
    "y = fin_df['user_credit_score']"
   ]
  },
  {
   "cell_type": "code",
   "execution_count": 207,
   "metadata": {
    "collapsed": false
   },
   "outputs": [
    {
     "data": {
      "text/plain": [
       "pandas.core.series.Series"
      ]
     },
     "execution_count": 207,
     "metadata": {},
     "output_type": "execute_result"
    }
   ],
   "source": [
    "type(X)\n",
    "# y.shape\n",
    "# linReg.fit(X,y)"
   ]
  },
  {
   "cell_type": "code",
   "execution_count": 208,
   "metadata": {
    "collapsed": false
   },
   "outputs": [],
   "source": [
    "# X = pd.Series.as_matrix(X)\n",
    "# y = pd.Series.as_matrix(y)\n"
   ]
  },
  {
   "cell_type": "code",
   "execution_count": 214,
   "metadata": {
    "collapsed": false
   },
   "outputs": [
    {
     "name": "stderr",
     "output_type": "stream",
     "text": [
      "/Library/Python/2.7/site-packages/ipykernel/__main__.py:3: FutureWarning: reshape is deprecated and will raise in a subsequent release. Please use .values.reshape(...) instead\n",
      "  app.launch_new_instance()\n"
     ]
    }
   ],
   "source": [
    "import numpy as np\n",
    "X = X.reshape(len(X),1)\n",
    "y = y.reshape(len(y),1)\n",
    "# linReg.fit(X,y)"
   ]
  },
  {
   "cell_type": "code",
   "execution_count": 215,
   "metadata": {
    "collapsed": false
   },
   "outputs": [
    {
     "data": {
      "text/plain": [
       "(4080, 1)"
      ]
     },
     "execution_count": 215,
     "metadata": {},
     "output_type": "execute_result"
    }
   ],
   "source": [
    "y.shape\n",
    "# linReg.fit(X,y)\n",
    "#  f = X.reshape(4080,1)"
   ]
  },
  {
   "cell_type": "code",
   "execution_count": 234,
   "metadata": {
    "collapsed": false
   },
   "outputs": [
    {
     "data": {
      "text/plain": [
       "LinearRegression(copy_X=True, fit_intercept=True, n_jobs=1, normalize=False)"
      ]
     },
     "execution_count": 234,
     "metadata": {},
     "output_type": "execute_result"
    }
   ],
   "source": [
    "from sklearn.model_selection import train_test_split\n",
    "X_train, X_test, y_train, y_test = train_test_split(X,y, test_size=0.4)\n",
    "X_train.shape\n",
    "linReg.fit(X_train,y_train)"
   ]
  },
  {
   "cell_type": "code",
   "execution_count": 235,
   "metadata": {
    "collapsed": false
   },
   "outputs": [
    {
     "data": {
      "text/plain": [
       "array([[ 0.27081936]])"
      ]
     },
     "execution_count": 235,
     "metadata": {},
     "output_type": "execute_result"
    }
   ],
   "source": [
    "linReg.coef_"
   ]
  },
  {
   "cell_type": "code",
   "execution_count": 236,
   "metadata": {
    "collapsed": false
   },
   "outputs": [
    {
     "data": {
      "text/plain": [
       "array([ 543.92160149])"
      ]
     },
     "execution_count": 236,
     "metadata": {},
     "output_type": "execute_result"
    }
   ],
   "source": [
    "linReg.intercept_"
   ]
  },
  {
   "cell_type": "code",
   "execution_count": 243,
   "metadata": {
    "collapsed": false
   },
   "outputs": [],
   "source": [
    "y_pred = linReg.predict(X_test)\n",
    "# linReg.predict([600,1])"
   ]
  },
  {
   "cell_type": "code",
   "execution_count": 249,
   "metadata": {
    "collapsed": false
   },
   "outputs": [
    {
     "name": "stdout",
     "output_type": "stream",
     "text": [
      "6073.29871364\n"
     ]
    }
   ],
   "source": [
    "# y_test.shape\n",
    "y_pred.shape\n",
    "from sklearn import metrics\n",
    "print (metrics.mean_squared_error(y_test, y_pred))\n",
    "# linReg.predict([[600]])"
   ]
  },
  {
   "cell_type": "code",
   "execution_count": 225,
   "metadata": {
    "collapsed": false
   },
   "outputs": [
    {
     "data": {
      "text/plain": [
       "array([[ 717.14680807]])"
      ]
     },
     "execution_count": 225,
     "metadata": {},
     "output_type": "execute_result"
    }
   ],
   "source": [
    "# linReg.predict([[650]])"
   ]
  },
  {
   "cell_type": "code",
   "execution_count": null,
   "metadata": {
    "collapsed": true
   },
   "outputs": [],
   "source": []
  }
 ],
 "metadata": {
  "kernelspec": {
   "display_name": "Python 2",
   "language": "python",
   "name": "python2"
  },
  "language_info": {
   "codemirror_mode": {
    "name": "ipython",
    "version": 2
   },
   "file_extension": ".py",
   "mimetype": "text/x-python",
   "name": "python",
   "nbconvert_exporter": "python",
   "pygments_lexer": "ipython2",
   "version": "2.7.10"
  }
 },
 "nbformat": 4,
 "nbformat_minor": 2
}
